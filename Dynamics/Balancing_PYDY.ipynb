{
 "cells": [
  {
   "cell_type": "markdown",
   "metadata": {},
   "source": [
    "# BALANCING sim\n",
    "author:SeongHyeon Kim\n",
    "\n",
    "program:PYDY balancing robot simulator\n"
   ]
  },
  {
   "cell_type": "markdown",
   "metadata": {},
   "source": [
    "필요한 라이브러리 포함\n"
   ]
  },
  {
   "cell_type": "code",
   "execution_count": 1,
   "metadata": {},
   "outputs": [],
   "source": [
    "from sympy import sin, cos, symbols, solve, Matrix, init_printing\n",
    "from sympy.physics.mechanics import *\n",
    "import numpy as np\n",
    "from sympy.physics.vector import ReferenceFrame"
   ]
  },
  {
   "cell_type": "code",
   "execution_count": 2,
   "metadata": {},
   "outputs": [],
   "source": [
    "init_vprinting()"
   ]
  },
  {
   "cell_type": "markdown",
   "metadata": {},
   "source": [
    "# Reference frames"
   ]
  },
  {
   "cell_type": "markdown",
   "metadata": {},
   "source": [
    "N은 외부의 기준 프레임. 속도를 0으로"
   ]
  },
  {
   "cell_type": "code",
   "execution_count": 3,
   "metadata": {},
   "outputs": [],
   "source": [
    "#Newtonian reference frame\n",
    "N=ReferenceFrame('N')\n",
    "\n",
    "# Define a world coordinate origin\n",
    "O = Point('O')\n",
    "O.set_vel(N, 0)"
   ]
  },
  {
   "cell_type": "markdown",
   "metadata": {},
   "source": [
    "# Variables"
   ]
  },
  {
   "cell_type": "markdown",
   "metadata": {},
   "source": [
    "변수선언"
   ]
  },
  {
   "cell_type": "code",
   "execution_count": 4,
   "metadata": {},
   "outputs": [],
   "source": [
    "#Variables\n",
    "x = dynamicsymbols('x')                                #Moving distance\n",
    "theta = dynamicsymbols('theta')                        #Roll angle\n",
    "psi = dynamicsymbols('psi')                            #Yaw angle\n",
    "omega1, omega2 = dynamicsymbols('omega1, omega2')      #Angular displacement of wheel\n",
    "g, t = symbols('g t')                                  # Gravity and time\n",
    "dx, dtheta, dpsi = dynamicsymbols('x_d, theta_d, psi_d')\n"
   ]
  },
  {
   "cell_type": "code",
   "execution_count": 5,
   "metadata": {},
   "outputs": [],
   "source": [
    "#Robot heading Frame\n",
    "H= N.orientnew('H', 'Axis',[psi, N.z] )\n",
    "\n",
    "# Robot Reference Frame(Center of mass)\n",
    "P = H.orientnew('P', 'Axis', [theta, H.x])\n"
   ]
  },
  {
   "cell_type": "markdown",
   "metadata": {},
   "source": [
    "기준프레임.dcm(상대프레임)"
   ]
  },
  {
   "cell_type": "code",
   "execution_count": 6,
   "metadata": {
    "scrolled": true
   },
   "outputs": [
    {
     "data": {
      "text/latex": [
       "$\\displaystyle \\left[\\begin{matrix}\\operatorname{cos}\\left(\\psi\\right) & - \\operatorname{sin}\\left(\\psi\\right) & 0\\\\\\operatorname{sin}\\left(\\psi\\right) & \\operatorname{cos}\\left(\\psi\\right) & 0\\\\0 & 0 & 1\\end{matrix}\\right]$"
      ],
      "text/plain": [
       "⎡cos(ψ)  -sin(ψ)  0⎤\n",
       "⎢                  ⎥\n",
       "⎢sin(ψ)  cos(ψ)   0⎥\n",
       "⎢                  ⎥\n",
       "⎣  0        0     1⎦"
      ]
     },
     "execution_count": 6,
     "metadata": {},
     "output_type": "execute_result"
    }
   ],
   "source": [
    "N.dcm(H)"
   ]
  },
  {
   "cell_type": "code",
   "execution_count": 7,
   "metadata": {
    "scrolled": true
   },
   "outputs": [
    {
     "data": {
      "text/latex": [
       "$\\displaystyle \\left[\\begin{matrix}1 & 0 & 0\\\\0 & \\operatorname{cos}\\left(\\theta\\right) & - \\operatorname{sin}\\left(\\theta\\right)\\\\0 & \\operatorname{sin}\\left(\\theta\\right) & \\operatorname{cos}\\left(\\theta\\right)\\end{matrix}\\right]$"
      ],
      "text/plain": [
       "⎡1    0        0   ⎤\n",
       "⎢                  ⎥\n",
       "⎢0  cos(θ)  -sin(θ)⎥\n",
       "⎢                  ⎥\n",
       "⎣0  sin(θ)  cos(θ) ⎦"
      ]
     },
     "execution_count": 7,
     "metadata": {},
     "output_type": "execute_result"
    }
   ],
   "source": [
    "H.dcm(P)"
   ]
  },
  {
   "cell_type": "markdown",
   "metadata": {},
   "source": [
    "## Wheel variables"
   ]
  },
  {
   "cell_type": "markdown",
   "metadata": {},
   "source": [
    "바퀴지름,질량, 관성모멘트 값\n",
    "\n",
    "관성모멘트함수=inertia(기준 좌표, xx, yy,zz회전)"
   ]
  },
  {
   "cell_type": "code",
   "execution_count": 8,
   "metadata": {
    "scrolled": true
   },
   "outputs": [],
   "source": [
    "#Constans for the wheels\n",
    "R_f = symbols('R_f')                                     #Front wheel Radius\n",
    "m_wf = symbols('m_wf')                                 #Front wheel mass\n",
    "R_r = symbols('R_r')                                     #Rear wheel Radius\n",
    "m_wr = symbols('m_wr')                                 #Rear wheel mass\n",
    "Iw_f = inertia(H, 1,2,3)                               #Wheel inertia \n",
    "Iw_r = inertia(H, 5,6,7)\n"
   ]
  },
  {
   "cell_type": "markdown",
   "metadata": {},
   "source": [
    "## Body variables"
   ]
  },
  {
   "cell_type": "markdown",
   "metadata": {},
   "source": [
    "바퀴간 거리, 질량, 관성모멘트"
   ]
  },
  {
   "cell_type": "code",
   "execution_count": 9,
   "metadata": {},
   "outputs": [],
   "source": [
    "#Constants for the Robot body\n",
    "d = symbols('d')                                       #Distance from Front wheel to Rear wheel\n",
    "m_b = symbols('m_b')                                   #Mass of the body\n",
    "Ixx, Iyy, Izz = symbols('Ixx, Iyy, Izz')               #Moments of inertia of body\n"
   ]
  },
  {
   "cell_type": "markdown",
   "metadata": {},
   "source": [
    "P는 로봇의 무게중심기준계.F는 로봇 방향 기준계. Ff는 앞바퀴의 기준계.\n",
    "\n",
    "Ff의 속도 설정 diff() 는 미분을 의미한다."
   ]
  },
  {
   "cell_type": "code",
   "execution_count": 10,
   "metadata": {},
   "outputs": [],
   "source": [
    "\n",
    "# Front wheel Point\n",
    "Ff = O.locatenew('Ff', x*H.x)\n",
    "\n",
    "# Set the velocity of point Ff\n",
    "Ff.set_vel(N, dx*H.x )\n"
   ]
  },
  {
   "cell_type": "markdown",
   "metadata": {},
   "source": [
    "# Modeling Wheel (Joints)"
   ]
  },
  {
   "cell_type": "markdown",
   "metadata": {},
   "source": [
    "## Wheel Frames & Angular Velocities"
   ]
  },
  {
   "cell_type": "code",
   "execution_count": 11,
   "metadata": {},
   "outputs": [
    {
     "data": {
      "image/png": "[encoded data removed]",
      "text/latex": [
       "$\\displaystyle -  \\dot{\\omega}_{1}\\mathbf{\\hat{h}_y}$"
      ],
      "text/plain": [
       "-ω₁̇ h_y"
      ]
     },
     "execution_count": 11,
     "metadata": {},
     "output_type": "execute_result"
    }
   ],
   "source": [
    "# Create reference frames for wheels\n",
    "Wf = H.orientnew('Wf', 'Axis', [omega1, H.y])\n",
    "Wr = H.orientnew('Wr', 'Axis', [omega2, H.x])\n",
    "\n",
    "H.ang_vel_in(Wf)"
   ]
  },
  {
   "cell_type": "markdown",
   "metadata": {},
   "source": [
    "바퀴위치, 바퀴회전, 바퀴의 프레임 선언, 바퀴 강체선언\n",
    "\n",
    "\n",
    "기준.locatenew('이름', 이동*단위백터)\n"
   ]
  },
  {
   "cell_type": "code",
   "execution_count": 12,
   "metadata": {},
   "outputs": [],
   "source": [
    "# Points of front wheel\n",
    "F_wheel = Ff.locatenew('F_wheel', 0)\n",
    "R_wheel= Ff.locatenew('R_wheel', d*H.x)\n"
   ]
  },
  {
   "cell_type": "code",
   "execution_count": 13,
   "metadata": {},
   "outputs": [],
   "source": [
    "# Create rigid bodies for wheels\n",
    "Wheel_f = RigidBody('Wheel_f', F_wheel, Wf, m_wf, (Iw_f, F_wheel))\n",
    "Wheel_r = RigidBody('Wheel_r', R_wheel, Wr, m_wr, (Iw_r, R_wheel))\n"
   ]
  },
  {
   "cell_type": "markdown",
   "metadata": {},
   "source": [
    "## Modeling body"
   ]
  },
  {
   "cell_type": "code",
   "execution_count": 14,
   "metadata": {},
   "outputs": [],
   "source": [
    "# Calculate inertia of body\n",
    "Ib = inertia(H, Ixx, Iyy, Izz)\n",
    "\n",
    "# Center of mass of body\n",
    "CoM_x, CoM_z=symbols('M_x, M_z')\n",
    "\n",
    "#Point Center of mass\n",
    "Cm = Ff.locatenew('Cm', CoM_x*H.x + CoM_z*H.z)  #CoM 몸체 위치\n",
    "\n",
    "# Create a rigid body object for body\n",
    "Body = RigidBody('Body', Cm, P, m_b, (Ib, Cm))"
   ]
  },
  {
   "cell_type": "markdown",
   "metadata": {},
   "source": [
    "# Kinematical Differential Equations"
   ]
  },
  {
   "cell_type": "code",
   "execution_count": 15,
   "metadata": {},
   "outputs": [
    {
     "data": {
      "image/png": "[encoded data removed]",
      "text/latex": [
       "$\\displaystyle \\theta_{d}$"
      ],
      "text/plain": [
       "θ_d"
      ]
     },
     "execution_count": 15,
     "metadata": {},
     "output_type": "execute_result"
    }
   ],
   "source": [
    "\n",
    "dtheta"
   ]
  },
  {
   "cell_type": "code",
   "execution_count": 16,
   "metadata": {},
   "outputs": [
    {
     "data": {
      "image/png": "[encoded data removed]",
      "text/latex": [
       "$\\displaystyle \\left[ x_{d} - \\dot{x}, \\  \\theta_{d} - \\dot{\\theta}, \\  \\psi_{d} - \\dot{\\psi}\\right]$"
      ],
      "text/plain": [
       "[x_d - ẋ, θ_d - θ̇, ψ_d - ψ̇]"
      ]
     },
     "execution_count": 16,
     "metadata": {},
     "output_type": "execute_result"
    }
   ],
   "source": [
    "kinematical_differential_equations = [dx - x.diff(),\n",
    "                                      dtheta - theta.diff(),\n",
    "                                      dpsi - psi.diff()]\n",
    "kinematical_differential_equations"
   ]
  },
  {
   "cell_type": "code",
   "execution_count": null,
   "metadata": {},
   "outputs": [],
   "source": []
  },
  {
   "cell_type": "markdown",
   "metadata": {},
   "source": [
    "# 입력 속도"
   ]
  },
  {
   "cell_type": "code",
   "execution_count": 46,
   "metadata": {},
   "outputs": [],
   "source": [
    "H.set_ang_vel(N, dpsi*N.z )"
   ]
  },
  {
   "cell_type": "code",
   "execution_count": 47,
   "metadata": {},
   "outputs": [],
   "source": [
    "P.set_ang_vel(H, dtheta*H.x)"
   ]
  },
  {
   "cell_type": "code",
   "execution_count": null,
   "metadata": {},
   "outputs": [],
   "source": []
  },
  {
   "cell_type": "markdown",
   "metadata": {},
   "source": [
    "### 각각의 각속도 (손풀이랑 같음)"
   ]
  },
  {
   "cell_type": "code",
   "execution_count": 48,
   "metadata": {},
   "outputs": [
    {
     "data": {
      "image/png": "[encoded data removed]",
      "text/latex": [
       "$\\displaystyle -  \\psi_{d}\\mathbf{\\hat{n}_z}$"
      ],
      "text/plain": [
       "-ψ_d n_z"
      ]
     },
     "execution_count": 48,
     "metadata": {},
     "output_type": "execute_result"
    }
   ],
   "source": [
    "#Yaw 각속도\n",
    "N.ang_vel_in(H)"
   ]
  },
  {
   "cell_type": "code",
   "execution_count": 49,
   "metadata": {
    "scrolled": true
   },
   "outputs": [
    {
     "data": {
      "image/png": "[encoded data removed]",
      "text/latex": [
       "$\\displaystyle -  \\psi_{d}\\mathbf{\\hat{n}_z} -  \\theta_{d}\\mathbf{\\hat{h}_x}$"
      ],
      "text/plain": [
       "-ψ_d n_z + -θ_d h_x"
      ]
     },
     "execution_count": 49,
     "metadata": {},
     "output_type": "execute_result"
    }
   ],
   "source": [
    "#몸체 각속도\n",
    "N.ang_vel_in(P)"
   ]
  },
  {
   "cell_type": "code",
   "execution_count": 50,
   "metadata": {},
   "outputs": [
    {
     "data": {
      "image/png": "[encoded data removed]",
      "text/latex": [
       "$\\displaystyle -  \\psi_{d}\\mathbf{\\hat{n}_z} -  \\dot{\\omega}_{1}\\mathbf{\\hat{h}_y}$"
      ],
      "text/plain": [
       "-ψ_d n_z + -ω₁̇ h_y"
      ]
     },
     "execution_count": 50,
     "metadata": {},
     "output_type": "execute_result"
    }
   ],
   "source": [
    "#앞바퀴 각속도\n",
    "N.ang_vel_in(Wf)"
   ]
  },
  {
   "cell_type": "code",
   "execution_count": 51,
   "metadata": {},
   "outputs": [
    {
     "data": {
      "image/png": "[encoded data removed]",
      "text/latex": [
       "$\\displaystyle -  \\psi_{d}\\mathbf{\\hat{n}_z} -  \\dot{\\omega}_{2}\\mathbf{\\hat{h}_x}$"
      ],
      "text/plain": [
       "-ψ_d n_z + -ω₂̇ h_x"
      ]
     },
     "execution_count": 51,
     "metadata": {},
     "output_type": "execute_result"
    }
   ],
   "source": [
    "#뒷바퀴 각속도\n",
    "N.ang_vel_in(Wr)"
   ]
  },
  {
   "cell_type": "markdown",
   "metadata": {},
   "source": [
    "### 각각의 Mass center 에서의 속도"
   ]
  },
  {
   "cell_type": "markdown",
   "metadata": {},
   "source": [
    "\n",
    "v2pt_theory는 선속도를 의미\n",
    "\n",
    "\n",
    "$$^I\\mathbf{v}^{P_2} = ^I\\mathbf{v}^{P_1} + ^I\\omega^A \\times \\mathbf{r}^{\\frac{P_2}{P_1}}$$\n",
    "\n",
    "The `Point.v2pt_theory()` method makes it easy to do this calculation.\n",
    "\n",
    "측정점.v2pt_theory(회전 중심점, 관찰틀, 회전틀(돌아가는 애))"
   ]
  },
  {
   "cell_type": "code",
   "execution_count": 52,
   "metadata": {},
   "outputs": [
    {
     "data": {
      "image/png": "[encoded data removed]",
      "text/latex": [
       "$\\displaystyle x_{d}\\mathbf{\\hat{h}_x}$"
      ],
      "text/plain": [
       "x_d h_x"
      ]
     },
     "execution_count": 52,
     "metadata": {},
     "output_type": "execute_result"
    }
   ],
   "source": [
    "#앞바퀴의 선속도\n",
    "F_wheel.v2pt_theory(Ff, N, Wf)"
   ]
  },
  {
   "cell_type": "code",
   "execution_count": 53,
   "metadata": {},
   "outputs": [
    {
     "data": {
      "image/png": "[encoded data removed]",
      "text/latex": [
       "$\\displaystyle x_{d}\\mathbf{\\hat{h}_x} + d \\psi_{d}\\mathbf{\\hat{h}_y}$"
      ],
      "text/plain": [
       "x_d h_x + d⋅ψ_d h_y"
      ]
     },
     "execution_count": 53,
     "metadata": {},
     "output_type": "execute_result"
    }
   ],
   "source": [
    "#뒷바퀴의 선속도\n",
    "R_wheel.v2pt_theory(Ff, N, Wr)"
   ]
  },
  {
   "cell_type": "code",
   "execution_count": 54,
   "metadata": {},
   "outputs": [
    {
     "data": {
      "image/png": "[encoded data removed]",
      "text/latex": [
       "$\\displaystyle x_{d}\\mathbf{\\hat{h}_x} + (M_{x} \\psi_{d} - M_{z} \\theta_{d})\\mathbf{\\hat{h}_y}$"
      ],
      "text/plain": [
       "x_d h_x + (Mₓ⋅ψ_d - M_z⋅θ_d) h_y"
      ]
     },
     "execution_count": 54,
     "metadata": {},
     "output_type": "execute_result"
    }
   ],
   "source": [
    "#몸의 질량중심의 속도\n",
    "Cm.v2pt_theory(Ff, N, P)"
   ]
  },
  {
   "cell_type": "markdown",
   "metadata": {},
   "source": [
    "### 토크와 힘 작용"
   ]
  },
  {
   "cell_type": "code",
   "execution_count": 55,
   "metadata": {},
   "outputs": [],
   "source": [
    "#중력벡터\n",
    "Gravity = -m_b * g * N.z"
   ]
  },
  {
   "cell_type": "code",
   "execution_count": 56,
   "metadata": {},
   "outputs": [],
   "source": [
    "#모터 토크선언\n",
    "F_torque, R_torque = dynamicsymbols('T_f, T_r')"
   ]
  },
  {
   "cell_type": "code",
   "execution_count": 57,
   "metadata": {},
   "outputs": [],
   "source": [
    "#토크벡터\n",
    "motor_F = F_torque * H.y\n",
    "motor_R = R_torque * H.x"
   ]
  },
  {
   "cell_type": "code",
   "execution_count": 58,
   "metadata": {},
   "outputs": [
    {
     "data": {
      "image/png": "[encoded data removed]",
      "text/latex": [
       "$\\displaystyle -  T_{r}\\mathbf{\\hat{h}_x} -  T_{f}\\mathbf{\\hat{h}_y}$"
      ],
      "text/plain": [
       "-Tᵣ h_x + -T_f h_y"
      ]
     },
     "execution_count": 58,
     "metadata": {},
     "output_type": "execute_result"
    }
   ],
   "source": [
    "Body_torque = -(motor_F + motor_R)\n",
    "Body_torque"
   ]
  },
  {
   "cell_type": "code",
   "execution_count": 59,
   "metadata": {},
   "outputs": [],
   "source": [
    "Cm_grav_force = (Cm, Gravity)"
   ]
  },
  {
   "cell_type": "code",
   "execution_count": 60,
   "metadata": {},
   "outputs": [],
   "source": [
    "Fwheel_torque = (Wf, motor_F)"
   ]
  },
  {
   "cell_type": "code",
   "execution_count": 61,
   "metadata": {},
   "outputs": [],
   "source": [
    "Rwheel_torque = (Wr, motor_R)"
   ]
  },
  {
   "cell_type": "code",
   "execution_count": 62,
   "metadata": {},
   "outputs": [],
   "source": [
    "Body_torque = (P, Body_torque)"
   ]
  },
  {
   "cell_type": "markdown",
   "metadata": {},
   "source": [
    "# 운동방정식으로 만들자"
   ]
  },
  {
   "cell_type": "markdown",
   "metadata": {},
   "source": [
    "## Generalized Forces"
   ]
  },
  {
   "cell_type": "markdown",
   "metadata": {},
   "source": [
    "[토크힘] x [속도,각속도]\n",
    "\n",
    "[Cm속도, 앞바퀴각속도, 뒷바퀴각속도, 몸체 각속도] x [중력, 앞바퀴토크, 뒷바퀴토크, Cm토크] \n",
    "\n",
    "VnWxTnF"
   ]
  },
  {
   "cell_type": "code",
   "execution_count": 63,
   "metadata": {},
   "outputs": [],
   "source": [
    "from __future__ import print_function, division"
   ]
  },
  {
   "cell_type": "code",
   "execution_count": 64,
   "metadata": {},
   "outputs": [],
   "source": [
    "from sympy import trigsimp\n",
    "from sympy.physics.mechanics import KanesMethod"
   ]
  },
  {
   "cell_type": "code",
   "execution_count": 65,
   "metadata": {},
   "outputs": [],
   "source": [
    "from sympy.physics.vector import init_vprinting"
   ]
  },
  {
   "cell_type": "code",
   "execution_count": 66,
   "metadata": {
    "scrolled": true
   },
   "outputs": [
    {
     "data": {
      "image/png": "[encoded data removed]",
      "text/latex": [
       "$\\displaystyle \\left[ x, \\  \\theta, \\  \\psi\\right]$"
      ],
      "text/plain": [
       "[x, θ, ψ]"
      ]
     },
     "execution_count": 66,
     "metadata": {},
     "output_type": "execute_result"
    }
   ],
   "source": [
    "q = [x, theta, psi]\n",
    "q"
   ]
  },
  {
   "cell_type": "code",
   "execution_count": 68,
   "metadata": {},
   "outputs": [
    {
     "data": {
      "image/png": "[encoded data removed]",
      "text/latex": [
       "$\\displaystyle \\left[ x_{d}, \\  \\theta_{d}, \\  \\psi_{d}\\right]$"
      ],
      "text/plain": [
       "[x_d, θ_d, ψ_d]"
      ]
     },
     "execution_count": 68,
     "metadata": {},
     "output_type": "execute_result"
    }
   ],
   "source": [
    "dq = [dx,dtheta, dpsi]\n",
    "dq"
   ]
  },
  {
   "cell_type": "code",
   "execution_count": 69,
   "metadata": {},
   "outputs": [
    {
     "data": {
      "text/plain": [
       "<sympy.physics.mechanics.kane.KanesMethod at 0x7f5b6963f450>"
      ]
     },
     "execution_count": 69,
     "metadata": {},
     "output_type": "execute_result"
    }
   ],
   "source": [
    "kane = KanesMethod(N, q, dq, kinematical_differential_equations)\n",
    "kane\n"
   ]
  },
  {
   "cell_type": "code",
   "execution_count": 70,
   "metadata": {},
   "outputs": [
    {
     "data": {
      "text/plain": [
       "[(Cm, - g*m_b*N.z), (Wf, T_f*H.y), (Wr, T_r*H.x), (P, - T_r*H.x - T_f*H.y)]"
      ]
     },
     "execution_count": 70,
     "metadata": {},
     "output_type": "execute_result"
    }
   ],
   "source": [
    "loads = [Cm_grav_force,\n",
    "        Fwheel_torque,\n",
    "        Rwheel_torque,\n",
    "        Body_torque]\n",
    "loads"
   ]
  },
  {
   "cell_type": "code",
   "execution_count": 71,
   "metadata": {},
   "outputs": [
    {
     "data": {
      "text/plain": [
       "[Body, Wheel_f, Wheel_r]"
      ]
     },
     "execution_count": 71,
     "metadata": {},
     "output_type": "execute_result"
    }
   ],
   "source": [
    "bodies = [Body, Wheel_f, Wheel_r]\n",
    "bodies"
   ]
  },
  {
   "cell_type": "code",
   "execution_count": 72,
   "metadata": {},
   "outputs": [],
   "source": [
    "fr, frstar = kane.kanes_equations(bodies, loads)"
   ]
  },
  {
   "cell_type": "code",
   "execution_count": 73,
   "metadata": {},
   "outputs": [
    {
     "data": {
      "text/latex": [
       "$\\displaystyle \\left[\\begin{matrix}d m_{wr} \\psi^{2}_{d} + m_{b} \\left(M_{x} \\psi_{d} - M_{z} \\theta_{d}\\right) \\psi_{d} - \\left(m_{b} + m_{wf} + m_{wr}\\right) \\dot{x}_{d}\\\\M_{x} M_{z} m_{b} \\dot{\\psi}_{d} + M_{z} m_{b} \\psi_{d} x_{d} - \\left(Ixx + M_{z}^{2} m_{b}\\right) \\dot{\\theta}_{d} - T_{r}\\\\M_{x} M_{z} m_{b} \\dot{\\theta}_{d} - M_{x} m_{b} \\psi_{d} x_{d} - d m_{wr} \\psi_{d} x_{d} - \\left(Izz + M_{x}^{2} m_{b} + d^{2} m_{wr} + 10\\right) \\dot{\\psi}_{d}\\end{matrix}\\right]$"
      ],
      "text/plain": [
       "⎡                    2                                                        \n",
       "⎢          d⋅m_wr⋅ψ_d  + m_b⋅(Mₓ⋅ψ_d - M_z⋅θ_d)⋅ψ_d - (m_b + m_wf + m_wr)⋅x_̇d\n",
       "⎢                                                                             \n",
       "⎢                                                ⎛         2    ⎞             \n",
       "⎢            Mₓ⋅M_z⋅m_b⋅ψ_̇d + M_z⋅m_b⋅ψ_d⋅x_d - ⎝Ixx + M_z ⋅m_b⎠⋅θ_̇d - Tᵣ   \n",
       "⎢                                                                             \n",
       "⎢                                                    ⎛        2        2      \n",
       "⎣Mₓ⋅M_z⋅m_b⋅θ_̇d - Mₓ⋅m_b⋅ψ_d⋅x_d - d⋅m_wr⋅ψ_d⋅x_d - ⎝Izz + Mₓ ⋅m_b + d ⋅m_wr \n",
       "\n",
       "          ⎤\n",
       "          ⎥\n",
       "          ⎥\n",
       "          ⎥\n",
       "          ⎥\n",
       "          ⎥\n",
       "    ⎞     ⎥\n",
       "+ 10⎠⋅ψ_̇d⎦"
      ]
     },
     "execution_count": 73,
     "metadata": {},
     "output_type": "execute_result"
    }
   ],
   "source": [
    "trigsimp(fr + frstar)"
   ]
  },
  {
   "cell_type": "code",
   "execution_count": 74,
   "metadata": {
    "scrolled": true
   },
   "outputs": [
    {
     "data": {
      "text/latex": [
       "$\\displaystyle \\left[\\begin{matrix}1 & 0 & 0 & 0 & 0 & 0\\\\0 & 1 & 0 & 0 & 0 & 0\\\\0 & 0 & 1 & 0 & 0 & 0\\\\0 & 0 & 0 & m_{b} + m_{wf} + m_{wr} & 0 & 0\\\\0 & 0 & 0 & 0 & Ixx + M_{z}^{2} m_{b} & - M_{x} M_{z} m_{b}\\\\0 & 0 & 0 & 0 & - M_{x} M_{z} m_{b} & Izz + M_{x}^{2} m_{b} + d^{2} m_{wr} + 10\\end{matrix}\\right]$"
      ],
      "text/plain": [
       "⎡1  0  0          0                0                      0              ⎤\n",
       "⎢                                                                        ⎥\n",
       "⎢0  1  0          0                0                      0              ⎥\n",
       "⎢                                                                        ⎥\n",
       "⎢0  0  1          0                0                      0              ⎥\n",
       "⎢                                                                        ⎥\n",
       "⎢0  0  0  m_b + m_wf + m_wr        0                      0              ⎥\n",
       "⎢                                                                        ⎥\n",
       "⎢                                     2                                  ⎥\n",
       "⎢0  0  0          0          Ixx + M_z ⋅m_b          -Mₓ⋅M_z⋅m_b         ⎥\n",
       "⎢                                                                        ⎥\n",
       "⎢                                                    2        2          ⎥\n",
       "⎣0  0  0          0           -Mₓ⋅M_z⋅m_b    Izz + Mₓ ⋅m_b + d ⋅m_wr + 10⎦"
      ]
     },
     "execution_count": 74,
     "metadata": {},
     "output_type": "execute_result"
    }
   ],
   "source": [
    "mass_matrix = trigsimp(kane.mass_matrix_full)\n",
    "mass_matrix"
   ]
  },
  {
   "cell_type": "code",
   "execution_count": 75,
   "metadata": {},
   "outputs": [
    {
     "data": {
      "text/latex": [
       "$\\displaystyle \\left[\\begin{matrix}x_{d}\\\\\\theta_{d}\\\\\\psi_{d}\\\\d m_{wr} \\psi^{2}_{d} + m_{b} \\left(M_{x} \\psi_{d} - M_{z} \\theta_{d}\\right) \\psi_{d}\\\\M_{z} m_{b} \\psi_{d} x_{d} - T_{r}\\\\- M_{x} m_{b} \\psi_{d} x_{d} - d m_{wr} \\psi_{d} x_{d}\\end{matrix}\\right]$"
      ],
      "text/plain": [
       "⎡                  x_d                   ⎤\n",
       "⎢                                        ⎥\n",
       "⎢                  θ_d                   ⎥\n",
       "⎢                                        ⎥\n",
       "⎢                  ψ_d                   ⎥\n",
       "⎢                                        ⎥\n",
       "⎢          2                             ⎥\n",
       "⎢d⋅m_wr⋅ψ_d  + m_b⋅(Mₓ⋅ψ_d - M_z⋅θ_d)⋅ψ_d⎥\n",
       "⎢                                        ⎥\n",
       "⎢          M_z⋅m_b⋅ψ_d⋅x_d - Tᵣ          ⎥\n",
       "⎢                                        ⎥\n",
       "⎣    -Mₓ⋅m_b⋅ψ_d⋅x_d - d⋅m_wr⋅ψ_d⋅x_d    ⎦"
      ]
     },
     "execution_count": 75,
     "metadata": {},
     "output_type": "execute_result"
    }
   ],
   "source": [
    "forcing_vector = trigsimp(kane.forcing_full)\n",
    "forcing_vector"
   ]
  },
  {
   "cell_type": "markdown",
   "metadata": {},
   "source": [
    "# Control"
   ]
  },
  {
   "cell_type": "code",
   "execution_count": 76,
   "metadata": {},
   "outputs": [],
   "source": [
    "from numpy import array, zeros, eye, asarray, dot, rad2deg\n",
    "from numpy.linalg import inv"
   ]
  },
  {
   "cell_type": "code",
   "execution_count": 77,
   "metadata": {},
   "outputs": [],
   "source": [
    "%matplotlib inline"
   ]
  },
  {
   "cell_type": "code",
   "execution_count": 78,
   "metadata": {},
   "outputs": [],
   "source": [
    "from matplotlib.pyplot import plot, xlabel, ylabel, legend, rcParams"
   ]
  },
  {
   "cell_type": "code",
   "execution_count": 79,
   "metadata": {},
   "outputs": [],
   "source": [
    "rcParams['figure.figsize'] = (14, 8)"
   ]
  },
  {
   "cell_type": "code",
   "execution_count": 80,
   "metadata": {},
   "outputs": [],
   "source": [
    "from sympy import simplify, Matrix, matrix2numpy\n",
    "from sympy.physics.vector import init_vprinting, vlatex"
   ]
  },
  {
   "cell_type": "code",
   "execution_count": 81,
   "metadata": {},
   "outputs": [
    {
     "data": {
      "text/plain": [
       "'%.3f'"
      ]
     },
     "execution_count": 81,
     "metadata": {},
     "output_type": "execute_result"
    }
   ],
   "source": [
    "%precision 3"
   ]
  },
  {
   "cell_type": "markdown",
   "metadata": {},
   "source": [
    "# 선형화"
   ]
  },
  {
   "cell_type": "code",
   "execution_count": 83,
   "metadata": {},
   "outputs": [
    {
     "data": {
      "text/plain": [
       "array([0., 0., 0., 0., 0., 0.])"
      ]
     },
     "execution_count": 83,
     "metadata": {},
     "output_type": "execute_result"
    }
   ],
   "source": [
    "equilibrium_point = zeros(len(q + dq))\n",
    "equilibrium_point"
   ]
  },
  {
   "cell_type": "code",
   "execution_count": 85,
   "metadata": {},
   "outputs": [
    {
     "data": {
      "image/png": "[encoded data removed]",
      "text/latex": [
       "$\\displaystyle \\left\\{ \\psi : 0.0, \\  \\psi_{d} : 0.0, \\  \\theta : 0.0, \\  \\theta_{d} : 0.0, \\  x : 0.0, \\  x_{d} : 0.0\\right\\}$"
      ],
      "text/plain": [
       "{ψ: 0.0, ψ_d: 0.0, θ: 0.0, θ_d: 0.0, x: 0.0, x_d: 0.0}"
      ]
     },
     "execution_count": 85,
     "metadata": {},
     "output_type": "execute_result"
    }
   ],
   "source": [
    "equilibrium_dict = dict(zip(q + dq, equilibrium_point))\n",
    "equilibrium_dict"
   ]
  },
  {
   "cell_type": "code",
   "execution_count": 2,
   "metadata": {},
   "outputs": [
    {
     "ename": "NameError",
     "evalue": "name 'kane' is not defined",
     "output_type": "error",
     "traceback": [
      "\u001b[0;31m---------------------------------------------------------------------------\u001b[0m",
      "\u001b[0;31mNameError\u001b[0m                                 Traceback (most recent call last)",
      "\u001b[0;32m<ipython-input-2-f9a2037982e5>\u001b[0m in \u001b[0;36m<module>\u001b[0;34m\u001b[0m\n\u001b[0;32m----> 1\u001b[0;31m \u001b[0mlinearizer\u001b[0m \u001b[0;34m=\u001b[0m \u001b[0mkane\u001b[0m\u001b[0;34m.\u001b[0m\u001b[0mto_linearizer\u001b[0m\u001b[0;34m(\u001b[0m\u001b[0;34m)\u001b[0m\u001b[0;34m\u001b[0m\u001b[0;34m\u001b[0m\u001b[0m\n\u001b[0m",
      "\u001b[0;31mNameError\u001b[0m: name 'kane' is not defined"
     ]
    }
   ],
   "source": [
    "linearizer = kane.to_linearizer()"
   ]
  },
  {
   "cell_type": "code",
   "execution_count": 1,
   "metadata": {},
   "outputs": [
    {
     "ename": "NameError",
     "evalue": "name 'linearizer' is not defined",
     "output_type": "error",
     "traceback": [
      "\u001b[0;31m---------------------------------------------------------------------------\u001b[0m",
      "\u001b[0;31mNameError\u001b[0m                                 Traceback (most recent call last)",
      "\u001b[0;32m<ipython-input-1-576875db8e5e>\u001b[0m in \u001b[0;36m<module>\u001b[0;34m\u001b[0m\n\u001b[0;32m----> 1\u001b[0;31m \u001b[0mlinearizer\u001b[0m\u001b[0;34m\u001b[0m\u001b[0;34m\u001b[0m\u001b[0m\n\u001b[0m",
      "\u001b[0;31mNameError\u001b[0m: name 'linearizer' is not defined"
     ]
    }
   ],
   "source": [
    "linearizer"
   ]
  },
  {
   "cell_type": "code",
   "execution_count": null,
   "metadata": {},
   "outputs": [],
   "source": []
  },
  {
   "cell_type": "code",
   "execution_count": null,
   "metadata": {},
   "outputs": [],
   "source": []
  },
  {
   "cell_type": "code",
   "execution_count": null,
   "metadata": {},
   "outputs": [],
   "source": []
  },
  {
   "cell_type": "code",
   "execution_count": null,
   "metadata": {},
   "outputs": [],
   "source": []
  },
  {
   "cell_type": "code",
   "execution_count": null,
   "metadata": {},
   "outputs": [],
   "source": []
  },
  {
   "cell_type": "code",
   "execution_count": null,
   "metadata": {},
   "outputs": [],
   "source": []
  },
  {
   "cell_type": "code",
   "execution_count": null,
   "metadata": {},
   "outputs": [],
   "source": []
  },
  {
   "cell_type": "code",
   "execution_count": null,
   "metadata": {},
   "outputs": [],
   "source": []
  }
 ],
 "metadata": {
  "kernelspec": {
   "display_name": "Python 3",
   "language": "python",
   "name": "python3"
  },
  "language_info": {
   "codemirror_mode": {
    "name": "ipython",
    "version": 3
   },
   "file_extension": ".py",
   "mimetype": "text/x-python",
   "name": "python",
   "nbconvert_exporter": "python",
   "pygments_lexer": "ipython3",
   "version": "3.7.4"
  }
 },
 "nbformat": 4,
 "nbformat_minor": 2
}
