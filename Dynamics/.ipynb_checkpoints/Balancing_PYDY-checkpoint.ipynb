{
 "cells": [
  {
   "cell_type": "markdown",
   "metadata": {},
   "source": [
    "# BALANCING sim\n",
    "author:SeongHyeon Kim\n",
    "\n",
    "program:PYDY balancing robot simulator\n"
   ]
  },
  {
   "cell_type": "markdown",
   "metadata": {},
   "source": [
    "필요한 라이브러리 포함\n"
   ]
  },
  {
   "cell_type": "code",
   "execution_count": 77,
   "metadata": {},
   "outputs": [],
   "source": [
    "from sympy import sin, cos, symbols, solve, Matrix\n",
    "from sympy.physics.mechanics import *"
   ]
  },
  {
   "cell_type": "code",
   "execution_count": 62,
   "metadata": {},
   "outputs": [],
   "source": [
    "init_vprinting()"
   ]
  },
  {
   "cell_type": "markdown",
   "metadata": {},
   "source": [
    "N은 외부의 기준 프레임. 속도를 0으로"
   ]
  },
  {
   "cell_type": "code",
   "execution_count": 63,
   "metadata": {},
   "outputs": [],
   "source": [
    "#Newtonian reference frame\n",
    "N=ReferenceFrame('N')\n",
    "\n",
    "\n",
    "# Define a world coordinate origin\n",
    "O = Point('O')\n",
    "O.set_vel(N, 0)"
   ]
  },
  {
   "cell_type": "markdown",
   "metadata": {},
   "source": [
    "변수선언"
   ]
  },
  {
   "cell_type": "code",
   "execution_count": 64,
   "metadata": {},
   "outputs": [
    {
     "data": {
      "text/latex": [
       "$\\displaystyle \\left[\\begin{matrix}\\dot{x}\\\\\\dot{\\theta}\\\\\\dot{\\phi}_{f}\\\\\\dot{\\phi}_{r}\\end{matrix}\\right]$"
      ],
      "text/plain": [
       "⎡ ẋ ⎤\n",
       "⎢    ⎥\n",
       "⎢ θ̇ ⎥\n",
       "⎢    ⎥\n",
       "⎢φ_̇f⎥\n",
       "⎢    ⎥\n",
       "⎣φᵣ̇ ⎦"
      ]
     },
     "execution_count": 64,
     "metadata": {},
     "output_type": "execute_result"
    }
   ],
   "source": [
    "#Variables\n",
    "x=dynamicsymbols('x')                                #Moving distance\n",
    "theta=dynamicsymbols('theta')                        #Roll angle\n",
    "psi=dynamicsymbols('psi')                            #Yaw angle\n",
    "phi1, phi2 = dynamicsymbols('phi_f, phi_r')          #Angular displacement of wheel\n",
    "\n",
    "\n",
    "# Create q and dq vectors\n",
    "q = Matrix([x, theta, phi1, phi2])\n",
    "dq = q.diff()\n",
    "\n",
    "dq"
   ]
  },
  {
   "cell_type": "markdown",
   "metadata": {},
   "source": [
    "P는 로봇의 무게중심기준계.F는 로봇 방향 기준계. Ff는 앞바퀴의 기준계.\n",
    "Ff의 속도 설정 diff() 는 미분을 의미한다."
   ]
  },
  {
   "cell_type": "code",
   "execution_count": 71,
   "metadata": {},
   "outputs": [],
   "source": [
    "\n",
    "# Robot Reference Frame(Center of mass)\n",
    "P = N.orientnew('P', 'Axis', [psi, N.z])\n",
    "\n",
    "#Robot heading Frame\n",
    "F= N.orientnew('F', 'Axis',[psi, N.z] )\n",
    "\n",
    "# Front wheel Point\n",
    "Ff = O.locatenew('Ff', x*F.x)\n",
    "\n",
    "# Set the velocity of point Ff\n",
    "Ff.set_vel(N, x.diff()*F.x )\n"
   ]
  },
  {
   "cell_type": "markdown",
   "metadata": {},
   "source": [
    "inertia(기준 좌표, xx, yy,zz회전)"
   ]
  },
  {
   "cell_type": "code",
   "execution_count": 72,
   "metadata": {
    "scrolled": true
   },
   "outputs": [],
   "source": [
    "#Constans for the wheels\n",
    "Rf=symbols('Rf')                                     #Front wheel Radius\n",
    "m_wf=symbols('m_wf')                                 #Front wheel mass\n",
    "Rr=symbols('Rr')                                     #Rear wheel Radius\n",
    "m_wr=symbols('m_wr')                                 #Rear wheel mass\n",
    "Iw_f=inertia(F, 1,2,3)                               #Wheel inertia \n",
    "Iw_r=inertia(F, 5,6,7)\n"
   ]
  },
  {
   "cell_type": "code",
   "execution_count": 73,
   "metadata": {},
   "outputs": [],
   "source": [
    "#Constants for the Robot body\n",
    "d=symbols('d')                                       #Distance from Front wheel to Rear wheel\n",
    "m_b=symbols('m_b')                                   #Mass of the body\n",
    "Ixx, Iyy, Izz = symbols('Ixx, Iyy, Izz')             #Moments of inertia of body\n"
   ]
  },
  {
   "cell_type": "code",
   "execution_count": 74,
   "metadata": {},
   "outputs": [],
   "source": [
    "#Frame transform\n",
    "N2F=([[cos(psi),-sin(psi),0],\n",
    "      [sin(psi), cos(psi),0],\n",
    "      [0,0,1]])\n",
    "F2P=([[1,0,0],\n",
    "      [0, cos(theta),-sin(theta)],\n",
    "      [0,sin(theta),cos(theta)]])"
   ]
  },
  {
   "cell_type": "markdown",
   "metadata": {},
   "source": [
    "기준.locatenew('이름', 이동*단위백터)\n",
    "바퀴 모델링"
   ]
  },
  {
   "cell_type": "code",
   "execution_count": 75,
   "metadata": {},
   "outputs": [],
   "source": [
    "# Points of front wheel\n",
    "Hf = Ff.locatenew('Hf', 0)\n",
    "Hr = Ff.locatenew('Hr', d*F.x)\n",
    "\n",
    "# Set the velocity of points H1 and H2???\n",
    "Hf.v2pt_theory(Ff, N, P)\n",
    "Hr.v2pt_theory(Ff, N, P);\n",
    "\n",
    "# Create reference frames for wheels\n",
    "Wf = F.orientnew('Wf', 'Axis', [phi1, F.y])      #이동 필요함\n",
    "Wr = F.orientnew('Wr', 'Axis', [phi2, F.x])\n",
    "\n",
    "\n",
    "# Create rigid bodies for wheels\n",
    "Wheel_f = RigidBody('Wheel_f', Hf, Wf, m_wf, (Iw_f, Hf))\n",
    "Wheel_r = RigidBody('Wheel_r', Hr, Wr, m_wr, (Iw_r, Hr))\n"
   ]
  },
  {
   "cell_type": "markdown",
   "metadata": {},
   "source": [
    "몸체 모델링"
   ]
  },
  {
   "cell_type": "code",
   "execution_count": 76,
   "metadata": {},
   "outputs": [],
   "source": [
    "# Calculate inertia of body\n",
    "Ib = inertia(F, Ixx, Iyy, Izz)\n",
    "\n",
    "# Center of mass of body\n",
    "Cm = Ff.locatenew('Cm', d*F.x)  #CoM 몸체 위치\n",
    "Cm.v2pt_theory(Ff, N, P)\n",
    "\n",
    "# Create a rigid body object for body\n",
    "Body = RigidBody('Body', Cm, P, m_b, (Ib, Cm))"
   ]
  },
  {
   "cell_type": "code",
   "execution_count": null,
   "metadata": {},
   "outputs": [],
   "source": []
  },
  {
   "cell_type": "code",
   "execution_count": null,
   "metadata": {},
   "outputs": [],
   "source": []
  },
  {
   "cell_type": "code",
   "execution_count": null,
   "metadata": {},
   "outputs": [],
   "source": []
  },
  {
   "cell_type": "code",
   "execution_count": null,
   "metadata": {},
   "outputs": [],
   "source": []
  }
 ],
 "metadata": {
  "kernelspec": {
   "display_name": "Python 3",
   "language": "python",
   "name": "python3"
  },
  "language_info": {
   "codemirror_mode": {
    "name": "ipython",
    "version": 3
   },
   "file_extension": ".py",
   "mimetype": "text/x-python",
   "name": "python",
   "nbconvert_exporter": "python",
   "pygments_lexer": "ipython3",
   "version": "3.7.4"
  }
 },
 "nbformat": 4,
 "nbformat_minor": 2
}
