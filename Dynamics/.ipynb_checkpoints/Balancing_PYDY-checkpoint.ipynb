{
 "cells": [
  {
   "cell_type": "markdown",
   "metadata": {},
   "source": [
    "# BALANCING sim\n",
    "author:SeongHyeon Kim\n",
    "\n",
    "program:PYDY balancing robot simulator\n"
   ]
  },
  {
   "cell_type": "markdown",
   "metadata": {},
   "source": [
    "필요한 라이브러리 포함\n"
   ]
  },
  {
   "cell_type": "code",
   "execution_count": 1,
   "metadata": {},
   "outputs": [],
   "source": [
    "from sympy import sin, cos, symbols, solve, Matrix, init_printing\n",
    "from sympy.physics.mechanics import *\n",
    "import numpy as np\n",
    "from sympy.physics.vector import ReferenceFrame"
   ]
  },
  {
   "cell_type": "code",
   "execution_count": 2,
   "metadata": {},
   "outputs": [],
   "source": [
    "init_vprinting()"
   ]
  },
  {
   "cell_type": "markdown",
   "metadata": {},
   "source": [
    "# Reference frames"
   ]
  },
  {
   "cell_type": "markdown",
   "metadata": {},
   "source": [
    "N은 외부의 기준 프레임. 속도를 0으로"
   ]
  },
  {
   "cell_type": "code",
   "execution_count": 3,
   "metadata": {},
   "outputs": [],
   "source": [
    "#Newtonian reference frame\n",
    "N=ReferenceFrame('N')\n",
    "\n",
    "# Define a world coordinate origin\n",
    "O = Point('O')\n",
    "O.set_vel(N, 0)"
   ]
  },
  {
   "cell_type": "markdown",
   "metadata": {},
   "source": [
    "# Variables"
   ]
  },
  {
   "cell_type": "markdown",
   "metadata": {},
   "source": [
    "변수선언"
   ]
  },
  {
   "cell_type": "code",
   "execution_count": 4,
   "metadata": {},
   "outputs": [],
   "source": [
    "#Variables\n",
    "x = dynamicsymbols('x')                                #Moving distance\n",
    "theta = dynamicsymbols('theta')                        #Roll angle\n",
    "psi = dynamicsymbols('psi')                            #Yaw angle\n",
    "omega1, omega2 = dynamicsymbols('omega1, omega2')      #Angular displacement of wheel\n",
    "g, t = symbols('g t')                                  # Gravity and time\n"
   ]
  },
  {
   "cell_type": "code",
   "execution_count": 5,
   "metadata": {},
   "outputs": [],
   "source": [
    "#Robot heading Frame\n",
    "H= N.orientnew('H', 'Axis',[psi, N.z] )\n",
    "\n",
    "# Robot Reference Frame(Center of mass)\n",
    "P = H.orientnew('P', 'Axis', [theta, H.x])\n"
   ]
  },
  {
   "cell_type": "markdown",
   "metadata": {},
   "source": [
    "기준프레임.dcm(상대프레임)"
   ]
  },
  {
   "cell_type": "code",
   "execution_count": 6,
   "metadata": {
    "scrolled": true
   },
   "outputs": [
    {
     "data": {
      "text/latex": [
       "$\\displaystyle \\left[\\begin{matrix}\\operatorname{cos}\\left(\\psi\\right) & - \\operatorname{sin}\\left(\\psi\\right) & 0\\\\\\operatorname{sin}\\left(\\psi\\right) & \\operatorname{cos}\\left(\\psi\\right) & 0\\\\0 & 0 & 1\\end{matrix}\\right]$"
      ],
      "text/plain": [
       "⎡cos(ψ)  -sin(ψ)  0⎤\n",
       "⎢                  ⎥\n",
       "⎢sin(ψ)  cos(ψ)   0⎥\n",
       "⎢                  ⎥\n",
       "⎣  0        0     1⎦"
      ]
     },
     "execution_count": 6,
     "metadata": {},
     "output_type": "execute_result"
    }
   ],
   "source": [
    "N.dcm(H)"
   ]
  },
  {
   "cell_type": "code",
   "execution_count": 7,
   "metadata": {
    "scrolled": true
   },
   "outputs": [
    {
     "data": {
      "text/latex": [
       "$\\displaystyle \\left[\\begin{matrix}1 & 0 & 0\\\\0 & \\operatorname{cos}\\left(\\theta\\right) & - \\operatorname{sin}\\left(\\theta\\right)\\\\0 & \\operatorname{sin}\\left(\\theta\\right) & \\operatorname{cos}\\left(\\theta\\right)\\end{matrix}\\right]$"
      ],
      "text/plain": [
       "⎡1    0        0   ⎤\n",
       "⎢                  ⎥\n",
       "⎢0  cos(θ)  -sin(θ)⎥\n",
       "⎢                  ⎥\n",
       "⎣0  sin(θ)  cos(θ) ⎦"
      ]
     },
     "execution_count": 7,
     "metadata": {},
     "output_type": "execute_result"
    }
   ],
   "source": [
    "H.dcm(P)"
   ]
  },
  {
   "cell_type": "markdown",
   "metadata": {},
   "source": [
    "## Wheel variables"
   ]
  },
  {
   "cell_type": "markdown",
   "metadata": {},
   "source": [
    "바퀴지름,질량, 관성모멘트 값\n",
    "\n",
    "관성모멘트함수=inertia(기준 좌표, xx, yy,zz회전)"
   ]
  },
  {
   "cell_type": "code",
   "execution_count": 8,
   "metadata": {
    "scrolled": true
   },
   "outputs": [],
   "source": [
    "#Constans for the wheels\n",
    "R_f = symbols('R_f')                                     #Front wheel Radius\n",
    "m_wf = symbols('m_wf')                                 #Front wheel mass\n",
    "R_r = symbols('R_r')                                     #Rear wheel Radius\n",
    "m_wr = symbols('m_wr')                                 #Rear wheel mass\n",
    "Iw_f = inertia(H, 1,2,3)                               #Wheel inertia \n",
    "Iw_r = inertia(H, 5,6,7)\n"
   ]
  },
  {
   "cell_type": "markdown",
   "metadata": {},
   "source": [
    "## Body variables"
   ]
  },
  {
   "cell_type": "markdown",
   "metadata": {},
   "source": [
    "바퀴간 거리, 질량, 관성모멘트"
   ]
  },
  {
   "cell_type": "code",
   "execution_count": 9,
   "metadata": {},
   "outputs": [],
   "source": [
    "#Constants for the Robot body\n",
    "d = symbols('d')                                       #Distance from Front wheel to Rear wheel\n",
    "m_b = symbols('m_b')                                   #Mass of the body\n",
    "Ixx, Iyy, Izz = symbols('Ixx, Iyy, Izz')               #Moments of inertia of body\n"
   ]
  },
  {
   "cell_type": "markdown",
   "metadata": {},
   "source": [
    "P는 로봇의 무게중심기준계.F는 로봇 방향 기준계. Ff는 앞바퀴의 기준계.\n",
    "\n",
    "Ff의 속도 설정 diff() 는 미분을 의미한다."
   ]
  },
  {
   "cell_type": "code",
   "execution_count": 10,
   "metadata": {},
   "outputs": [],
   "source": [
    "\n",
    "# Front wheel Point\n",
    "Ff = O.locatenew('Ff', x*H.x)\n",
    "\n",
    "# Set the velocity of point Ff\n",
    "Ff.set_vel(N, x.diff()*H.x )\n"
   ]
  },
  {
   "cell_type": "markdown",
   "metadata": {},
   "source": [
    "# Modeling Wheel (Joints)"
   ]
  },
  {
   "cell_type": "markdown",
   "metadata": {},
   "source": [
    "## Wheel Frames & Angular Velocities"
   ]
  },
  {
   "cell_type": "code",
   "execution_count": 11,
   "metadata": {},
   "outputs": [
    {
     "data": {
      "image/png": "[encoded data removed]",
      "text/latex": [
       "$\\displaystyle -  \\dot{\\omega}_{1}\\mathbf{\\hat{h}_y}$"
      ],
      "text/plain": [
       "-ω₁̇ h_y"
      ]
     },
     "execution_count": 11,
     "metadata": {},
     "output_type": "execute_result"
    }
   ],
   "source": [
    "# Create reference frames for wheels\n",
    "Wf = H.orientnew('Wf', 'Axis', [omega1, H.y])\n",
    "Wr = H.orientnew('Wr', 'Axis', [omega2, H.x])\n",
    "\n",
    "H.ang_vel_in(Wf)"
   ]
  },
  {
   "cell_type": "markdown",
   "metadata": {},
   "source": [
    "바퀴위치, 바퀴회전, 바퀴의 프레임 선언, 바퀴 강체선언\n",
    "\n",
    "\n",
    "기준.locatenew('이름', 이동*단위백터)\n"
   ]
  },
  {
   "cell_type": "code",
   "execution_count": 12,
   "metadata": {},
   "outputs": [],
   "source": [
    "# Points of front wheel\n",
    "F_wheel = Ff.locatenew('F_wheel', 0)\n",
    "R_wheel= Ff.locatenew('R_wheel', d*H.x)\n"
   ]
  },
  {
   "cell_type": "code",
   "execution_count": 13,
   "metadata": {},
   "outputs": [],
   "source": [
    "# Create rigid bodies for wheels\n",
    "Wheel_f = RigidBody('Wheel_f', F_wheel, Wf, m_wf, (Iw_f, F_wheel))\n",
    "Wheel_r = RigidBody('Wheel_r', R_wheel, Wr, m_wr, (Iw_r, R_wheel))\n"
   ]
  },
  {
   "cell_type": "markdown",
   "metadata": {},
   "source": [
    "## Modeling body"
   ]
  },
  {
   "cell_type": "code",
   "execution_count": 14,
   "metadata": {},
   "outputs": [],
   "source": [
    "# Calculate inertia of body\n",
    "Ib = inertia(H, Ixx, Iyy, Izz)\n",
    "\n",
    "# Center of mass of body\n",
    "CoM_x, CoM_z=symbols('M_x, M_z')\n",
    "\n",
    "Cm = Ff.locatenew('Cm', CoM_x*H.x + CoM_z*H.z)  #CoM 몸체 위치\n",
    "\n",
    "# Create a rigid body object for body\n",
    "Body = RigidBody('Body', Cm, P, m_b, (Ib, Cm))"
   ]
  },
  {
   "cell_type": "markdown",
   "metadata": {},
   "source": [
    "### 각각의 각속도 (손풀이랑 같음)"
   ]
  },
  {
   "cell_type": "code",
   "execution_count": 15,
   "metadata": {},
   "outputs": [
    {
     "data": {
      "image/png": "[encoded data removed]",
      "text/latex": [
       "$\\displaystyle -  \\dot{\\psi}\\mathbf{\\hat{n}_z}$"
      ],
      "text/plain": [
       "-ψ̇ n_z"
      ]
     },
     "execution_count": 15,
     "metadata": {},
     "output_type": "execute_result"
    }
   ],
   "source": [
    "#Yaw 각속도\n",
    "N.ang_vel_in(H)"
   ]
  },
  {
   "cell_type": "code",
   "execution_count": 16,
   "metadata": {
    "scrolled": true
   },
   "outputs": [
    {
     "data": {
      "image/png": "[encoded data removed]",
      "text/latex": [
       "$\\displaystyle -  \\dot{\\psi}\\mathbf{\\hat{n}_z} -  \\dot{\\theta}\\mathbf{\\hat{h}_x}$"
      ],
      "text/plain": [
       "-ψ̇ n_z + -θ̇ h_x"
      ]
     },
     "execution_count": 16,
     "metadata": {},
     "output_type": "execute_result"
    }
   ],
   "source": [
    "#몸체 각속도\n",
    "N.ang_vel_in(P)"
   ]
  },
  {
   "cell_type": "code",
   "execution_count": 17,
   "metadata": {},
   "outputs": [
    {
     "data": {
      "image/png": "[encoded data removed]",
      "text/latex": [
       "$\\displaystyle -  \\dot{\\psi}\\mathbf{\\hat{n}_z} -  \\dot{\\omega}_{1}\\mathbf{\\hat{h}_y}$"
      ],
      "text/plain": [
       "-ψ̇ n_z + -ω₁̇ h_y"
      ]
     },
     "execution_count": 17,
     "metadata": {},
     "output_type": "execute_result"
    }
   ],
   "source": [
    "#앞바퀴 각속도\n",
    "N.ang_vel_in(Wf)"
   ]
  },
  {
   "cell_type": "code",
   "execution_count": 18,
   "metadata": {},
   "outputs": [
    {
     "data": {
      "image/png": "[encoded data removed]",
      "text/latex": [
       "$\\displaystyle -  \\dot{\\psi}\\mathbf{\\hat{n}_z} -  \\dot{\\omega}_{2}\\mathbf{\\hat{h}_x}$"
      ],
      "text/plain": [
       "-ψ̇ n_z + -ω₂̇ h_x"
      ]
     },
     "execution_count": 18,
     "metadata": {},
     "output_type": "execute_result"
    }
   ],
   "source": [
    "#뒷바퀴 각속도\n",
    "N.ang_vel_in(Wr)"
   ]
  },
  {
   "cell_type": "markdown",
   "metadata": {},
   "source": [
    "### 각각의 Mass center 에서의 속도"
   ]
  },
  {
   "cell_type": "markdown",
   "metadata": {},
   "source": [
    "\n",
    "v2pt_theory는 선속도를 의미\n",
    "\n",
    "\n",
    "$$^I\\mathbf{v}^{P_2} = ^I\\mathbf{v}^{P_1} + ^I\\omega^A \\times \\mathbf{r}^{\\frac{P_2}{P_1}}$$\n",
    "\n",
    "The `Point.v2pt_theory()` method makes it easy to do this calculation.\n",
    "\n",
    "측정점.v2pt_theory(회전 중심점, 관찰틀, 회전틀(돌아가는 애))"
   ]
  },
  {
   "cell_type": "code",
   "execution_count": 19,
   "metadata": {},
   "outputs": [
    {
     "data": {
      "image/png": "[encoded data removed]",
      "text/latex": [
       "$\\displaystyle \\dot{x}\\mathbf{\\hat{h}_x}$"
      ],
      "text/plain": [
       "ẋ h_x"
      ]
     },
     "execution_count": 19,
     "metadata": {},
     "output_type": "execute_result"
    }
   ],
   "source": [
    "#앞바퀴의 선속도\n",
    "F_wheel.v2pt_theory(Ff, N, Wf)"
   ]
  },
  {
   "cell_type": "code",
   "execution_count": 20,
   "metadata": {},
   "outputs": [
    {
     "data": {
      "image/png": "[encoded data removed]",
      "text/latex": [
       "$\\displaystyle \\dot{x}\\mathbf{\\hat{h}_x} + d \\dot{\\psi}\\mathbf{\\hat{h}_y}$"
      ],
      "text/plain": [
       "ẋ h_x + d⋅ψ̇ h_y"
      ]
     },
     "execution_count": 20,
     "metadata": {},
     "output_type": "execute_result"
    }
   ],
   "source": [
    "#뒷바퀴의 선속도\n",
    "R_wheel.v2pt_theory(Ff, N, Wr)"
   ]
  },
  {
   "cell_type": "code",
   "execution_count": 21,
   "metadata": {},
   "outputs": [
    {
     "data": {
      "image/png": "[encoded data removed]",
      "text/latex": [
       "$\\displaystyle \\dot{x}\\mathbf{\\hat{h}_x} + (M_{x} \\dot{\\psi} - M_{z} \\dot{\\theta})\\mathbf{\\hat{h}_y}$"
      ],
      "text/plain": [
       "ẋ h_x + (Mₓ⋅ψ̇ - M_z⋅θ̇) h_y"
      ]
     },
     "execution_count": 21,
     "metadata": {},
     "output_type": "execute_result"
    }
   ],
   "source": [
    "#몸의 질량중심의 속도\n",
    "Cm.v2pt_theory(Ff, N, P)"
   ]
  },
  {
   "cell_type": "markdown",
   "metadata": {},
   "source": [
    "### 토크와 힘 작용"
   ]
  },
  {
   "cell_type": "code",
   "execution_count": 35,
   "metadata": {},
   "outputs": [],
   "source": [
    "#중력벡터\n",
    "G2body = -m_b * g * N.z"
   ]
  },
  {
   "cell_type": "code",
   "execution_count": 36,
   "metadata": {},
   "outputs": [],
   "source": [
    "#모터 토크선언\n",
    "F_torque, R_torque = dynamicsymbols('T_f, T_r')"
   ]
  },
  {
   "cell_type": "code",
   "execution_count": 37,
   "metadata": {},
   "outputs": [],
   "source": [
    "#토크벡터\n",
    "motor_F = F_torque * H.y\n",
    "motor_R = R_torque * H.x"
   ]
  },
  {
   "cell_type": "code",
   "execution_count": 38,
   "metadata": {},
   "outputs": [
    {
     "data": {
      "image/png": "[encoded data removed]",
      "text/latex": [
       "$\\displaystyle -  T_{r}\\mathbf{\\hat{h}_x} -  T_{f}\\mathbf{\\hat{h}_y}$"
      ],
      "text/plain": [
       "-Tᵣ h_x + -T_f h_y"
      ]
     },
     "execution_count": 38,
     "metadata": {},
     "output_type": "execute_result"
    }
   ],
   "source": [
    "Body_torque = -(motor_F + motor_R)\n",
    "Body_torque"
   ]
  },
  {
   "cell_type": "markdown",
   "metadata": {},
   "source": [
    "# 운동방정식으로 만들자"
   ]
  },
  {
   "cell_type": "markdown",
   "metadata": {},
   "source": [
    "## Generalized Forces"
   ]
  },
  {
   "cell_type": "markdown",
   "metadata": {},
   "source": [
    "[토크힘] x [속도,각속도]\n",
    "\n",
    "[Cm속도, 앞바퀴각속도, 뒷바퀴각속도, 몸체 각속도] x [중력, 앞바퀴토크, 뒷바퀴토크, Cm토크] \n",
    "\n",
    "VnWxTnF"
   ]
  },
  {
   "cell_type": "code",
   "execution_count": 39,
   "metadata": {},
   "outputs": [],
   "source": [
    "from __future__ import print_function, division"
   ]
  },
  {
   "cell_type": "code",
   "execution_count": 54,
   "metadata": {},
   "outputs": [],
   "source": [
    "from sympy import trigsimp\n",
    "from sympy.physics.mechanics import KanesMethod"
   ]
  },
  {
   "cell_type": "code",
   "execution_count": 55,
   "metadata": {},
   "outputs": [],
   "source": [
    "from sympy.physics.vector import init_vprinting"
   ]
  },
  {
   "cell_type": "code",
   "execution_count": 56,
   "metadata": {},
   "outputs": [
    {
     "data": {
      "image/png": "[encoded data removed]",
      "text/latex": [
       "$\\displaystyle \\left[ -  g m_{b}\\mathbf{\\hat{n}_z}, \\  T_{f}\\mathbf{\\hat{h}_y}, \\  T_{r}\\mathbf{\\hat{h}_x}, \\  -  T_{r}\\mathbf{\\hat{h}_x} -  T_{f}\\mathbf{\\hat{h}_y}\\right]$"
      ],
      "text/plain": [
       "[-g⋅m_b n_z, T_f h_y, Tᵣ h_x, -Tᵣ h_x + -T_f h_y]"
      ]
     },
     "execution_count": 56,
     "metadata": {},
     "output_type": "execute_result"
    }
   ],
   "source": [
    "#행렬로 만들기\n",
    "TnF = [G2body, motor_F, motor_R, Body_torque]\n",
    "TnF"
   ]
  },
  {
   "cell_type": "code",
   "execution_count": 57,
   "metadata": {},
   "outputs": [
    {
     "data": {
      "image/png": "[encoded data removed]",
      "text/latex": [
       "$\\displaystyle \\left[ \\dot{x}\\mathbf{\\hat{h}_x} + (M_{x} \\dot{\\psi} - M_{z} \\dot{\\theta})\\mathbf{\\hat{h}_y}, \\  -  \\dot{\\psi}\\mathbf{\\hat{n}_z} -  \\dot{\\omega}_{1}\\mathbf{\\hat{h}_y}, \\  -  \\dot{\\psi}\\mathbf{\\hat{n}_z} -  \\dot{\\omega}_{2}\\mathbf{\\hat{h}_x}, \\  -  \\dot{\\psi}\\mathbf{\\hat{n}_z} -  \\dot{\\theta}\\mathbf{\\hat{h}_x}\\right]$"
      ],
      "text/plain": [
       "[ẋ h_x + (Mₓ⋅ψ̇ - M_z⋅θ̇) h_y, -ψ̇ n_z + -ω₁̇ h_y, -ψ̇ n_z + -ω₂̇ h_x, -ψ̇ n_\n",
       "z + -θ̇ h_x]"
      ]
     },
     "execution_count": 57,
     "metadata": {},
     "output_type": "execute_result"
    }
   ],
   "source": [
    "VnW = ([Cm.v2pt_theory(Ff, N, P), N.ang_vel_in(Wf), N.ang_vel_in(Wr), N.ang_vel_in(P)])\n",
    "VnW"
   ]
  },
  {
   "cell_type": "code",
   "execution_count": null,
   "metadata": {},
   "outputs": [],
   "source": [
    "fcm, fcmstar = kane.kanes_equations(bodies, loads)"
   ]
  },
  {
   "cell_type": "code",
   "execution_count": null,
   "metadata": {},
   "outputs": [],
   "source": [
    "\n",
    "trigsimp(fcm + fcmstar)"
   ]
  },
  {
   "cell_type": "code",
   "execution_count": 60,
   "metadata": {},
   "outputs": [],
   "source": [
    "KanesMethod?"
   ]
  },
  {
   "cell_type": "code",
   "execution_count": 33,
   "metadata": {},
   "outputs": [
    {
     "data": {
      "text/latex": [
       "$\\displaystyle \\left[\\begin{matrix}\\dot{x}\\\\\\dot{\\theta}\\\\\\dot{\\omega}_{1}\\\\\\dot{\\omega}_{2}\\end{matrix}\\right]$"
      ],
      "text/plain": [
       "⎡ẋ ⎤\n",
       "⎢   ⎥\n",
       "⎢θ̇ ⎥\n",
       "⎢   ⎥\n",
       "⎢ω₁̇⎥\n",
       "⎢   ⎥\n",
       "⎣ω₂̇⎦"
      ]
     },
     "execution_count": 33,
     "metadata": {},
     "output_type": "execute_result"
    }
   ],
   "source": [
    "\n",
    "# Create q and dq vectors\n",
    "q = Matrix([x, theta, omega1, omega2])\n",
    "dq = q.diff()\n",
    "\n",
    "dq"
   ]
  },
  {
   "cell_type": "markdown",
   "metadata": {},
   "source": [
    "작용점 작용힘 =로드\n",
    "\n",
    "몸체\n",
    "\n",
    "kanes 방정식에넣으면 알아서 계산"
   ]
  }
 ],
 "metadata": {
  "kernelspec": {
   "display_name": "Python 3",
   "language": "python",
   "name": "python3"
  },
  "language_info": {
   "codemirror_mode": {
    "name": "ipython",
    "version": 3
   },
   "file_extension": ".py",
   "mimetype": "text/x-python",
   "name": "python",
   "nbconvert_exporter": "python",
   "pygments_lexer": "ipython3",
   "version": "3.7.4"
  }
 },
 "nbformat": 4,
 "nbformat_minor": 2
}
