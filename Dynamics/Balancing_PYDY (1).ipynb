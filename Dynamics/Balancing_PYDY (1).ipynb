{
 "cells": [
  {
   "cell_type": "markdown",
   "metadata": {},
   "source": [
    "#BALANCING sim\n",
    "author:SeongHyeon Kim\n",
    "program:PYDY balancing robot simulator\n"
   ]
  },
  {
   "cell_type": "code",
   "execution_count": 1,
   "metadata": {},
   "outputs": [],
   "source": [
    "from sympy import sin, cos, symbols, solve, Matrix\n",
    "from sympy.physics.mechanics import *"
   ]
  },
  {
   "cell_type": "code",
   "execution_count": 2,
   "metadata": {},
   "outputs": [],
   "source": [
    "init_vprinting()"
   ]
  },
  {
   "cell_type": "code",
   "execution_count": 20,
   "metadata": {},
   "outputs": [],
   "source": [
    "#Newtonian reference frame\n",
    "N=ReferenceFrame('N')\n",
    "\n",
    "\n",
    "# Define a world coordinate origin\n",
    "O = Point('O')\n",
    "O.set_vel(N, 0)"
   ]
  },
  {
   "cell_type": "code",
   "execution_count": 18,
   "metadata": {},
   "outputs": [
    {
     "data": {
      "text/latex": [
       "$\\displaystyle \\left[\\begin{matrix}\\dot{x}\\\\\\dot{\\theta}\\\\\\dot{\\phi}_{1}\\\\\\dot{\\phi}_{2}\\end{matrix}\\right]$"
      ],
      "text/plain": [
       "⎡ẋ ⎤\n",
       "⎢   ⎥\n",
       "⎢θ̇ ⎥\n",
       "⎢   ⎥\n",
       "⎢φ₁̇⎥\n",
       "⎢   ⎥\n",
       "⎣φ₂̇⎦"
      ]
     },
     "execution_count": 18,
     "metadata": {},
     "output_type": "execute_result"
    }
   ],
   "source": [
    "#Variables\n",
    "x=dynamicsymbols('x')                                #Moving distance\n",
    "theta=dynamicsymbols('theta')                        #Roll angle\n",
    "psi=dynamicsymbols('psi')                            #Yaw angle\n",
    "phi1, phi2 = dynamicsymbols('phi_1, phi_2')          #Angular displacement of wheel\n",
    "\n",
    "\n",
    "# Create q and dq vectors\n",
    "q = Matrix([x, theta, phi1, phi2])\n",
    "dq = q.diff()\n",
    "\n",
    "dq"
   ]
  },
  {
   "cell_type": "code",
   "execution_count": 26,
   "metadata": {},
   "outputs": [],
   "source": [
    "\n",
    "# Robot Reference Frame(Center of mass)\n",
    "P = N.orientnew('P', 'Axis', [psi, N.z])\n",
    "\n",
    "#Front wheel Reference Frame\n",
    "Ff= N.orientnew('Ff', 'Axis',[psi, N.z] )\n",
    "\n",
    "# Center of wheel base\n",
    "Cw = O.locatenew('Cw', x*N.x)\n",
    "\n",
    "# Set the velocity of point Cw\n",
    "Cw.set_vel(N, x.diff()*N.x )\n"
   ]
  },
  {
   "cell_type": "code",
   "execution_count": 32,
   "metadata": {},
   "outputs": [],
   "source": [
    "#Constans for the wheels\n",
    "Rf=symbols('Rf')                                     #Front wheel Radius\n",
    "m_wf=symbols('m_wf')                                 #Front wheel mass\n",
    "Rr=symbols('Rr')                                     #Rear wheel Radius\n",
    "m_wr=symbols('m_wr')                                 #Rear wheel mass\n",
    "Iw_f=6                                               #Wheel inertia\n",
    "Iw_r=8\n"
   ]
  },
  {
   "cell_type": "code",
   "execution_count": 6,
   "metadata": {},
   "outputs": [],
   "source": [
    "\n",
    "#Constants for the Robot body\n",
    "d=symbols('d')                                       #Distance from Front wheel to Rear wheel\n",
    "m_b=symbols('m_b')                                   #Mass of the body\n",
    "Ixx, Iyy, Izz = symbols('Ixx, Iyy, Izz')             #Moments of inertia of body\n",
    "\n",
    "\n"
   ]
  },
  {
   "cell_type": "code",
   "execution_count": 8,
   "metadata": {},
   "outputs": [],
   "source": [
    "#Frame transform\n",
    "N2F=([[cos(psi),-sin(psi),0],\n",
    "      [sin(psi), cos(psi),0],\n",
    "      [0,0,1]])\n",
    "F2P=([[1,0,0],\n",
    "      [0, cos(theta),-sin(theta)],\n",
    "      [0,sin(theta),cos(theta)]])"
   ]
  },
  {
   "cell_type": "code",
   "execution_count": 34,
   "metadata": {},
   "outputs": [
    {
     "ename": "TypeError",
     "evalue": "RigidBody inertia must be a Dyadic object.",
     "output_type": "error",
     "traceback": [
      "\u001b[0;31m---------------------------------------------------------------------------\u001b[0m",
      "\u001b[0;31mTypeError\u001b[0m                                 Traceback (most recent call last)",
      "\u001b[0;32m<ipython-input-34-7c169a36be92>\u001b[0m in \u001b[0;36m<module>\u001b[0;34m\u001b[0m\n\u001b[1;32m     13\u001b[0m \u001b[0;34m\u001b[0m\u001b[0m\n\u001b[1;32m     14\u001b[0m \u001b[0;31m# Create rigid bodies for wheels\u001b[0m\u001b[0;34m\u001b[0m\u001b[0;34m\u001b[0m\u001b[0;34m\u001b[0m\u001b[0m\n\u001b[0;32m---> 15\u001b[0;31m \u001b[0mWheel_f\u001b[0m \u001b[0;34m=\u001b[0m \u001b[0mRigidBody\u001b[0m\u001b[0;34m(\u001b[0m\u001b[0;34m'Wheel_f'\u001b[0m\u001b[0;34m,\u001b[0m \u001b[0mHf\u001b[0m\u001b[0;34m,\u001b[0m \u001b[0mWf\u001b[0m\u001b[0;34m,\u001b[0m \u001b[0mm_wf\u001b[0m\u001b[0;34m,\u001b[0m \u001b[0;34m(\u001b[0m\u001b[0mIw_f\u001b[0m\u001b[0;34m,\u001b[0m \u001b[0mHf\u001b[0m\u001b[0;34m)\u001b[0m\u001b[0;34m)\u001b[0m\u001b[0;34m\u001b[0m\u001b[0;34m\u001b[0m\u001b[0m\n\u001b[0m\u001b[1;32m     16\u001b[0m \u001b[0mWheel_r\u001b[0m \u001b[0;34m=\u001b[0m \u001b[0mRigidBody\u001b[0m\u001b[0;34m(\u001b[0m\u001b[0;34m'Wheel_r'\u001b[0m\u001b[0;34m,\u001b[0m \u001b[0mHr\u001b[0m\u001b[0;34m,\u001b[0m \u001b[0mWr\u001b[0m\u001b[0;34m,\u001b[0m \u001b[0mm_wr\u001b[0m\u001b[0;34m,\u001b[0m \u001b[0;34m(\u001b[0m\u001b[0mIw_r\u001b[0m\u001b[0;34m,\u001b[0m \u001b[0mHr\u001b[0m\u001b[0;34m)\u001b[0m\u001b[0;34m)\u001b[0m\u001b[0;34m\u001b[0m\u001b[0;34m\u001b[0m\u001b[0m\n\u001b[1;32m     17\u001b[0m \u001b[0;34m\u001b[0m\u001b[0m\n",
      "\u001b[0;32m~/anaconda3/lib/python3.7/site-packages/sympy/physics/mechanics/rigidbody.py\u001b[0m in \u001b[0;36m__init__\u001b[0;34m(self, name, masscenter, frame, mass, inertia)\u001b[0m\n\u001b[1;32m     57\u001b[0m         \u001b[0mself\u001b[0m\u001b[0;34m.\u001b[0m\u001b[0mmass\u001b[0m \u001b[0;34m=\u001b[0m \u001b[0mmass\u001b[0m\u001b[0;34m\u001b[0m\u001b[0;34m\u001b[0m\u001b[0m\n\u001b[1;32m     58\u001b[0m         \u001b[0mself\u001b[0m\u001b[0;34m.\u001b[0m\u001b[0mframe\u001b[0m \u001b[0;34m=\u001b[0m \u001b[0mframe\u001b[0m\u001b[0;34m\u001b[0m\u001b[0;34m\u001b[0m\u001b[0m\n\u001b[0;32m---> 59\u001b[0;31m         \u001b[0mself\u001b[0m\u001b[0;34m.\u001b[0m\u001b[0minertia\u001b[0m \u001b[0;34m=\u001b[0m \u001b[0minertia\u001b[0m\u001b[0;34m\u001b[0m\u001b[0;34m\u001b[0m\u001b[0m\n\u001b[0m\u001b[1;32m     60\u001b[0m         \u001b[0mself\u001b[0m\u001b[0;34m.\u001b[0m\u001b[0mpotential_energy\u001b[0m \u001b[0;34m=\u001b[0m \u001b[0;36m0\u001b[0m\u001b[0;34m\u001b[0m\u001b[0;34m\u001b[0m\u001b[0m\n\u001b[1;32m     61\u001b[0m \u001b[0;34m\u001b[0m\u001b[0m\n",
      "\u001b[0;32m~/anaconda3/lib/python3.7/site-packages/sympy/physics/mechanics/rigidbody.py\u001b[0m in \u001b[0;36minertia\u001b[0;34m(self, I)\u001b[0m\n\u001b[1;32m    100\u001b[0m     \u001b[0;32mdef\u001b[0m \u001b[0minertia\u001b[0m\u001b[0;34m(\u001b[0m\u001b[0mself\u001b[0m\u001b[0;34m,\u001b[0m \u001b[0mI\u001b[0m\u001b[0;34m)\u001b[0m\u001b[0;34m:\u001b[0m\u001b[0;34m\u001b[0m\u001b[0;34m\u001b[0m\u001b[0m\n\u001b[1;32m    101\u001b[0m         \u001b[0;32mif\u001b[0m \u001b[0;32mnot\u001b[0m \u001b[0misinstance\u001b[0m\u001b[0;34m(\u001b[0m\u001b[0mI\u001b[0m\u001b[0;34m[\u001b[0m\u001b[0;36m0\u001b[0m\u001b[0;34m]\u001b[0m\u001b[0;34m,\u001b[0m \u001b[0mDyadic\u001b[0m\u001b[0;34m)\u001b[0m\u001b[0;34m:\u001b[0m\u001b[0;34m\u001b[0m\u001b[0;34m\u001b[0m\u001b[0m\n\u001b[0;32m--> 102\u001b[0;31m             \u001b[0;32mraise\u001b[0m \u001b[0mTypeError\u001b[0m\u001b[0;34m(\u001b[0m\u001b[0;34m\"RigidBody inertia must be a Dyadic object.\"\u001b[0m\u001b[0;34m)\u001b[0m\u001b[0;34m\u001b[0m\u001b[0;34m\u001b[0m\u001b[0m\n\u001b[0m\u001b[1;32m    103\u001b[0m         \u001b[0;32mif\u001b[0m \u001b[0;32mnot\u001b[0m \u001b[0misinstance\u001b[0m\u001b[0;34m(\u001b[0m\u001b[0mI\u001b[0m\u001b[0;34m[\u001b[0m\u001b[0;36m1\u001b[0m\u001b[0;34m]\u001b[0m\u001b[0;34m,\u001b[0m \u001b[0mPoint\u001b[0m\u001b[0;34m)\u001b[0m\u001b[0;34m:\u001b[0m\u001b[0;34m\u001b[0m\u001b[0;34m\u001b[0m\u001b[0m\n\u001b[1;32m    104\u001b[0m             \u001b[0;32mraise\u001b[0m \u001b[0mTypeError\u001b[0m\u001b[0;34m(\u001b[0m\u001b[0;34m\"RigidBody inertia must be about a Point.\"\u001b[0m\u001b[0;34m)\u001b[0m\u001b[0;34m\u001b[0m\u001b[0;34m\u001b[0m\u001b[0m\n",
      "\u001b[0;31mTypeError\u001b[0m: RigidBody inertia must be a Dyadic object."
     ]
    }
   ],
   "source": [
    "# Points at wheel hubs\n",
    "Hf = Cw.locatenew('Hf', -d*P.y)\n",
    "Hr = Cw.locatenew('Hr', d*P.y)\n",
    "\n",
    "# Set the velocity of points H1 and H2\n",
    "Hf.v2pt_theory(Cw, N, P)\n",
    "Hr.v2pt_theory(Cw, N, P);\n",
    "\n",
    "# Create reference frames for wheels\n",
    "Wf = R.orientnew('Wf', 'Axis', [phi1, R.y])      #이동 필요함\n",
    "Wr = R.orientnew('Wr', 'Axis', [phi2, R.x])\n",
    "\n",
    "\n",
    "# Create rigid bodies for wheels\n",
    "Wheel_f = RigidBody('Wheel_f', Hf, Wf, m_wf, (Iw_f, Hf))\n",
    "Wheel_r = RigidBody('Wheel_r', Hr, Wr, m_wr, (Iw_r, Hr))\n",
    "\n",
    "\n"
   ]
  },
  {
   "cell_type": "code",
   "execution_count": null,
   "metadata": {},
   "outputs": [],
   "source": [
    "\n"
   ]
  },
  {
   "cell_type": "code",
   "execution_count": null,
   "metadata": {},
   "outputs": [],
   "source": []
  },
  {
   "cell_type": "code",
   "execution_count": null,
   "metadata": {},
   "outputs": [],
   "source": []
  }
 ],
 "metadata": {
  "kernelspec": {
   "display_name": "Python 3",
   "language": "python",
   "name": "python3"
  },
  "language_info": {
   "codemirror_mode": {
    "name": "ipython",
    "version": 3
   },
   "file_extension": ".py",
   "mimetype": "text/x-python",
   "name": "python",
   "nbconvert_exporter": "python",
   "pygments_lexer": "ipython3",
   "version": "3.7.4"
  }
 },
 "nbformat": 4,
 "nbformat_minor": 2
}
