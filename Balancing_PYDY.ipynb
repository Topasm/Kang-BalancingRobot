{
 "cells": [
  {
   "cell_type": "markdown",
   "metadata": {},
   "source": [
    "#BALANCING sim\n",
    "author:SeongHyeon Kim\n",
    "program:PYDY balancing robot simulator\n"
   ]
  },
  {
   "cell_type": "code",
   "execution_count": 1,
   "metadata": {},
   "outputs": [],
   "source": [
    "from sympy import sin, cos, symbols, solve, Matrix\n",
    "from sympy.physics.mechanics import *"
   ]
  },
  {
   "cell_type": "code",
   "execution_count": 2,
   "metadata": {},
   "outputs": [],
   "source": [
    "init_vprinting()"
   ]
  },
  {
   "cell_type": "code",
   "execution_count": 3,
   "metadata": {},
   "outputs": [],
   "source": [
    "#Newtonian reference frame\n",
    "N=ReferenceFrame('N')\n",
    "\n",
    "#Define a world coordinate origin\n",
    "#0=Point('0')\n",
    "#0.set_vel(N,0)"
   ]
  },
  {
   "cell_type": "code",
   "execution_count": 4,
   "metadata": {},
   "outputs": [],
   "source": [
    "#Variables\n",
    "\n",
    "x=dynamicsymbols('x')                                #Moving distance\n",
    "theta=dynamicsymbols('theta')                        #Roll angle\n",
    "psi=dynamicsymbols('psi')                            #Yaw angle\n",
    "phi1, phi2 = dynamicsymbols('phi_1, phi_2')          #Angular displacement of wheel"
   ]
  },
  {
   "cell_type": "code",
   "execution_count": 8,
   "metadata": {},
   "outputs": [],
   "source": [
    "#Constans for the wheels\n",
    "\n",
    "Rf=symbols('Rf')                                     #Front wheel\n",
    "m_rf=symbols('m_Rf')                                 #Front wheel mass\n",
    "Rr=symbols('Rr')                                     #Rear wheel\n",
    "m_Rr=symbols('m_Rr')                                 #Rear wheel mass\n",
    "Iw_f=6                                               #Wheel inertia\n",
    "Iw_r=8\n",
    "\n",
    "#Constants for the Robot body\n",
    "\n",
    "d=symbols('d')                                       #Distance from Front wheel to Rear wheel\n",
    "m_b=symbols('m_b')                                   #Mass of the body\n",
    "Ixx, Iyy, Izz = symbols('Ixx, Iyy, Izz')             #Moments of inertia of body\n",
    "\n"
   ]
  },
  {
   "cell_type": "code",
   "execution_count": 6,
   "metadata": {},
   "outputs": [],
   "source": [
    "# Robot Reference Frame\n",
    "\n",
    "R = N.orientnew('R', 'Axis', [psi, N.z])"
   ]
  },
  {
   "cell_type": "code",
   "execution_count": null,
   "metadata": {},
   "outputs": [],
   "source": []
  },
  {
   "cell_type": "code",
   "execution_count": 10,
   "metadata": {},
   "outputs": [
    {
     "ename": "NameError",
     "evalue": "name 'H1' is not defined",
     "output_type": "error",
     "traceback": [
      "\u001b[0;31m---------------------------------------------------------------------------\u001b[0m",
      "\u001b[0;31mNameError\u001b[0m                                 Traceback (most recent call last)",
      "\u001b[0;32m<ipython-input-10-78139cf44e04>\u001b[0m in \u001b[0;36m<module>\u001b[0;34m\u001b[0m\n\u001b[1;32m      5\u001b[0m \u001b[0;34m\u001b[0m\u001b[0m\n\u001b[1;32m      6\u001b[0m \u001b[0;31m# Create rigid bodies for wheels\u001b[0m\u001b[0;34m\u001b[0m\u001b[0;34m\u001b[0m\u001b[0;34m\u001b[0m\u001b[0m\n\u001b[0;32m----> 7\u001b[0;31m \u001b[0mWheel_f\u001b[0m \u001b[0;34m=\u001b[0m \u001b[0mRigidBody\u001b[0m\u001b[0;34m(\u001b[0m\u001b[0;34m'Wheel_f'\u001b[0m\u001b[0;34m,\u001b[0m \u001b[0mH1\u001b[0m\u001b[0;34m,\u001b[0m \u001b[0mWf\u001b[0m\u001b[0;34m,\u001b[0m \u001b[0mm_wf\u001b[0m\u001b[0;34m,\u001b[0m \u001b[0;34m(\u001b[0m\u001b[0mIw_f\u001b[0m\u001b[0;34m,\u001b[0m \u001b[0mH1\u001b[0m\u001b[0;34m)\u001b[0m\u001b[0;34m)\u001b[0m\u001b[0;34m\u001b[0m\u001b[0;34m\u001b[0m\u001b[0m\n\u001b[0m\u001b[1;32m      8\u001b[0m \u001b[0mWheel_r\u001b[0m \u001b[0;34m=\u001b[0m \u001b[0mRigidBody\u001b[0m\u001b[0;34m(\u001b[0m\u001b[0;34m'Wheel_r'\u001b[0m\u001b[0;34m,\u001b[0m \u001b[0mH2\u001b[0m\u001b[0;34m,\u001b[0m \u001b[0mWr\u001b[0m\u001b[0;34m,\u001b[0m \u001b[0mm_wr\u001b[0m\u001b[0;34m,\u001b[0m \u001b[0;34m(\u001b[0m\u001b[0mIw_r\u001b[0m\u001b[0;34m,\u001b[0m \u001b[0mH2\u001b[0m\u001b[0;34m)\u001b[0m\u001b[0;34m)\u001b[0m\u001b[0;34m\u001b[0m\u001b[0;34m\u001b[0m\u001b[0m\n\u001b[1;32m      9\u001b[0m \u001b[0;34m\u001b[0m\u001b[0m\n",
      "\u001b[0;31mNameError\u001b[0m: name 'H1' is not defined"
     ]
    }
   ],
   "source": [
    "# Create reference frames for wheels\n",
    "Wf = R.orientnew('Wf', 'Axis', [phi1, R.y])      #이동 필요함\n",
    "Wr = R.orientnew('Wr', 'Axis', [phi2, R.x])\n",
    "\n",
    "\n",
    "# Create rigid bodies for wheels\n",
    "Wheel_f = RigidBody('Wheel_f', H1, Wf, m_wf, (Iw_f, H1))\n",
    "Wheel_r = RigidBody('Wheel_r', H2, Wr, m_wr, (Iw_r, H2))\n",
    "\n",
    "\n"
   ]
  },
  {
   "cell_type": "code",
   "execution_count": null,
   "metadata": {},
   "outputs": [],
   "source": [
    "\n"
   ]
  },
  {
   "cell_type": "code",
   "execution_count": null,
   "metadata": {},
   "outputs": [],
   "source": []
  },
  {
   "cell_type": "code",
   "execution_count": null,
   "metadata": {},
   "outputs": [],
   "source": []
  }
 ],
 "metadata": {
  "kernelspec": {
   "display_name": "Python 3",
   "language": "python",
   "name": "python3"
  },
  "language_info": {
   "codemirror_mode": {
    "name": "ipython",
    "version": 3
   },
   "file_extension": ".py",
   "mimetype": "text/x-python",
   "name": "python",
   "nbconvert_exporter": "python",
   "pygments_lexer": "ipython3",
   "version": "3.7.4"
  }
 },
 "nbformat": 4,
 "nbformat_minor": 2
}
